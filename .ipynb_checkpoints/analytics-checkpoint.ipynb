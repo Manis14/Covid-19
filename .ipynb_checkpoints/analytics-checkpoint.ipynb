{
 "cells": [
  {
   "cell_type": "code",
   "execution_count": 15,
   "id": "24fc4568-d569-4f4e-b48f-7be9b69e7275",
   "metadata": {},
   "outputs": [],
   "source": [
    "import numpy as np\n",
    "import pandas as pd\n",
    "import plotly.graph_objects as go\n",
    "import plotly.express as px\n",
    "import seaborn as sns \n"
   ]
  },
  {
   "cell_type": "code",
   "execution_count": 17,
   "id": "0664a41b-0786-4f4d-8437-4f930c383e06",
   "metadata": {},
   "outputs": [],
   "source": [
    "patients = pd.read_csv('IndividualDetails.csv')"
   ]
  },
  {
   "cell_type": "code",
   "execution_count": 29,
   "id": "9f1b13b2-bb64-4b8a-832e-479622fa1803",
   "metadata": {},
   "outputs": [
    {
     "name": "stdout",
     "output_type": "stream",
     "text": [
      "<class 'pandas.core.frame.DataFrame'>\n",
      "RangeIndex: 5356 entries, 0 to 5355\n",
      "Data columns (total 12 columns):\n",
      " #   Column              Non-Null Count  Dtype \n",
      "---  ------              --------------  ----- \n",
      " 0   id                  5356 non-null   int64 \n",
      " 1   government_id       1141 non-null   object\n",
      " 2   diagnosed_date      5356 non-null   object\n",
      " 3   age                 1005 non-null   object\n",
      " 4   gender              1444 non-null   object\n",
      " 5   detected_city       876 non-null    object\n",
      " 6   detected_district   4416 non-null   object\n",
      " 7   detected_state      5356 non-null   object\n",
      " 8   nationality         1100 non-null   object\n",
      " 9   current_status      5355 non-null   object\n",
      " 10  status_change_date  5246 non-null   object\n",
      " 11  notes               4138 non-null   object\n",
      "dtypes: int64(1), object(11)\n",
      "memory usage: 502.3+ KB\n"
     ]
    }
   ],
   "source": [
    "patients.info()"
   ]
  },
  {
   "cell_type": "code",
   "execution_count": 48,
   "id": "550718b5-36dd-4025-8dd5-1743742c8770",
   "metadata": {},
   "outputs": [
    {
     "data": {
      "text/plain": [
       "5356"
      ]
     },
     "execution_count": 48,
     "metadata": {},
     "output_type": "execute_result"
    }
   ],
   "source": [
    "total_cases = patients.shape[0]\n",
    "total_cases"
   ]
  },
  {
   "cell_type": "code",
   "execution_count": 54,
   "id": "2da5311d-1859-443b-bd67-a5457e1a66c5",
   "metadata": {},
   "outputs": [],
   "source": [
    "active = patients[patients['current_status'] == 'Hospitalized'].shape[0]\n",
    "recovered = patients[patients['current_status'] == 'Recovered'].shape[0]\n",
    "deaths =patients[patients['current_status'] == 'Deceased'].shape[0]"
   ]
  },
  {
   "cell_type": "code",
   "execution_count": 56,
   "id": "c0c34517-cf57-458a-969b-bf686e0e9cef",
   "metadata": {},
   "outputs": [
    {
     "data": {
      "text/plain": [
       "26"
      ]
     },
     "execution_count": 56,
     "metadata": {},
     "output_type": "execute_result"
    }
   ],
   "source": [
    "deaths"
   ]
  },
  {
   "cell_type": "code",
   "execution_count": null,
   "id": "7230823c-97d7-4633-831c-5bf0b00c56f8",
   "metadata": {},
   "outputs": [],
   "source": []
  }
 ],
 "metadata": {
  "kernelspec": {
   "display_name": "Python 3 (ipykernel)",
   "language": "python",
   "name": "python3"
  },
  "language_info": {
   "codemirror_mode": {
    "name": "ipython",
    "version": 3
   },
   "file_extension": ".py",
   "mimetype": "text/x-python",
   "name": "python",
   "nbconvert_exporter": "python",
   "pygments_lexer": "ipython3",
   "version": "3.12.4"
  }
 },
 "nbformat": 4,
 "nbformat_minor": 5
}
