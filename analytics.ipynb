{
 "cells": [
  {
   "cell_type": "code",
   "execution_count": 13,
   "id": "24fc4568-d569-4f4e-b48f-7be9b69e7275",
   "metadata": {},
   "outputs": [],
   "source": [
    "import numpy as np\n",
    "import pandas as pd\n",
    "import plotly.graph_objects as go\n",
    "import plotly.express as px\n",
    "import plotly.offline as pyo\n",
    "import seaborn as sns \n"
   ]
  },
  {
   "cell_type": "code",
   "execution_count": 4,
   "id": "0664a41b-0786-4f4d-8437-4f930c383e06",
   "metadata": {},
   "outputs": [],
   "source": [
    "patients = pd.read_csv('IndividualDetails.csv')"
   ]
  },
  {
   "cell_type": "code",
   "execution_count": 6,
   "id": "9f1b13b2-bb64-4b8a-832e-479622fa1803",
   "metadata": {},
   "outputs": [
    {
     "name": "stdout",
     "output_type": "stream",
     "text": [
      "<class 'pandas.core.frame.DataFrame'>\n",
      "RangeIndex: 5356 entries, 0 to 5355\n",
      "Data columns (total 12 columns):\n",
      " #   Column              Non-Null Count  Dtype \n",
      "---  ------              --------------  ----- \n",
      " 0   id                  5356 non-null   int64 \n",
      " 1   government_id       1141 non-null   object\n",
      " 2   diagnosed_date      5356 non-null   object\n",
      " 3   age                 1005 non-null   object\n",
      " 4   gender              1444 non-null   object\n",
      " 5   detected_city       876 non-null    object\n",
      " 6   detected_district   4416 non-null   object\n",
      " 7   detected_state      5356 non-null   object\n",
      " 8   nationality         1100 non-null   object\n",
      " 9   current_status      5355 non-null   object\n",
      " 10  status_change_date  5246 non-null   object\n",
      " 11  notes               4138 non-null   object\n",
      "dtypes: int64(1), object(11)\n",
      "memory usage: 502.3+ KB\n"
     ]
    }
   ],
   "source": [
    "patients.info()"
   ]
  },
  {
   "cell_type": "code",
   "execution_count": 48,
   "id": "550718b5-36dd-4025-8dd5-1743742c8770",
   "metadata": {},
   "outputs": [
    {
     "data": {
      "text/plain": [
       "5356"
      ]
     },
     "execution_count": 48,
     "metadata": {},
     "output_type": "execute_result"
    }
   ],
   "source": [
    "total_cases = patients.shape[0]\n",
    "total_cases"
   ]
  },
  {
   "cell_type": "code",
   "execution_count": 54,
   "id": "2da5311d-1859-443b-bd67-a5457e1a66c5",
   "metadata": {},
   "outputs": [],
   "source": [
    "active = patients[patients['current_status'] == 'Hospitalized'].shape[0]\n",
    "recovered = patients[patients['current_status'] == 'Recovered'].shape[0]\n",
    "deaths =patients[patients['current_status'] == 'Deceased'].shape[0]"
   ]
  },
  {
   "cell_type": "code",
   "execution_count": 56,
   "id": "c0c34517-cf57-458a-969b-bf686e0e9cef",
   "metadata": {},
   "outputs": [
    {
     "data": {
      "text/plain": [
       "26"
      ]
     },
     "execution_count": 56,
     "metadata": {},
     "output_type": "execute_result"
    }
   ],
   "source": [
    "deaths"
   ]
  },
  {
   "cell_type": "code",
   "execution_count": 62,
   "id": "7230823c-97d7-4633-831c-5bf0b00c56f8",
   "metadata": {},
   "outputs": [],
   "source": [
    "options = patients['current_status'].unique().tolist()\n",
    "options = options[:3]"
   ]
  },
  {
   "cell_type": "code",
   "execution_count": 68,
   "id": "59c5fc9d-2ac0-45e9-b601-03451adfbae9",
   "metadata": {},
   "outputs": [],
   "source": [
    "options = options[:3]"
   ]
  },
  {
   "cell_type": "code",
   "execution_count": 70,
   "id": "938a3c28-569a-4f87-a881-6fb85475a8fa",
   "metadata": {},
   "outputs": [],
   "source": [
    "pbar = patients['detected_state'].value_counts().reset_index()"
   ]
  },
  {
   "cell_type": "code",
   "execution_count": null,
   "id": "1ee13583-1707-4186-a74d-70677150e8d5",
   "metadata": {},
   "outputs": [],
   "source": []
  },
  {
   "cell_type": "code",
   "execution_count": 80,
   "id": "7c1e3eda-0cb4-4698-8b57-b98ca9e90448",
   "metadata": {},
   "outputs": [],
   "source": [
    "statuses = patients['current_status'].unique().tolist()[0:3]\n",
    "options = [{'label': status, 'value': status} for status in statuses]\n",
    "options.append({'label': 'All', 'value': 'All'})"
   ]
  },
  {
   "cell_type": "code",
   "execution_count": 82,
   "id": "eff60c94-4394-4e0e-96d4-7f73a130dca5",
   "metadata": {},
   "outputs": [
    {
     "data": {
      "text/plain": [
       "[{'label': 'Recovered', 'value': 'Recovered'},\n",
       " {'label': 'Hospitalized', 'value': 'Hospitalized'},\n",
       " {'label': 'Deceased', 'value': 'Deceased'},\n",
       " {'label': 'All', 'value': 'All'}]"
      ]
     },
     "execution_count": 82,
     "metadata": {},
     "output_type": "execute_result"
    }
   ],
   "source": [
    "options"
   ]
  },
  {
   "cell_type": "code",
   "execution_count": 88,
   "id": "37eac66a-9b9a-4d93-88c5-9bd8effaba84",
   "metadata": {},
   "outputs": [],
   "source": [
    "npat =patients[patients['current_status']=='Recovered']\n",
    "pbar = npat['detected_state'].value_counts().reset_index()"
   ]
  },
  {
   "cell_type": "code",
   "execution_count": 19,
   "id": "fe9469a8-d9bf-4a66-83e2-7947980fd546",
   "metadata": {},
   "outputs": [
    {
     "data": {
      "text/html": [
       "<div>\n",
       "<style scoped>\n",
       "    .dataframe tbody tr th:only-of-type {\n",
       "        vertical-align: middle;\n",
       "    }\n",
       "\n",
       "    .dataframe tbody tr th {\n",
       "        vertical-align: top;\n",
       "    }\n",
       "\n",
       "    .dataframe thead th {\n",
       "        text-align: right;\n",
       "    }\n",
       "</style>\n",
       "<table border=\"1\" class=\"dataframe\">\n",
       "  <thead>\n",
       "    <tr style=\"text-align: right;\">\n",
       "      <th></th>\n",
       "      <th>Sno</th>\n",
       "      <th>AgeGroup</th>\n",
       "      <th>TotalCases</th>\n",
       "      <th>Percentage</th>\n",
       "    </tr>\n",
       "  </thead>\n",
       "  <tbody>\n",
       "    <tr>\n",
       "      <th>0</th>\n",
       "      <td>1</td>\n",
       "      <td>0-9</td>\n",
       "      <td>22</td>\n",
       "      <td>3.18%</td>\n",
       "    </tr>\n",
       "    <tr>\n",
       "      <th>1</th>\n",
       "      <td>2</td>\n",
       "      <td>10-19</td>\n",
       "      <td>27</td>\n",
       "      <td>3.90%</td>\n",
       "    </tr>\n",
       "    <tr>\n",
       "      <th>2</th>\n",
       "      <td>3</td>\n",
       "      <td>20-29</td>\n",
       "      <td>172</td>\n",
       "      <td>24.86%</td>\n",
       "    </tr>\n",
       "    <tr>\n",
       "      <th>3</th>\n",
       "      <td>4</td>\n",
       "      <td>30-39</td>\n",
       "      <td>146</td>\n",
       "      <td>21.10%</td>\n",
       "    </tr>\n",
       "    <tr>\n",
       "      <th>4</th>\n",
       "      <td>5</td>\n",
       "      <td>40-49</td>\n",
       "      <td>112</td>\n",
       "      <td>16.18%</td>\n",
       "    </tr>\n",
       "    <tr>\n",
       "      <th>5</th>\n",
       "      <td>6</td>\n",
       "      <td>50-59</td>\n",
       "      <td>77</td>\n",
       "      <td>11.13%</td>\n",
       "    </tr>\n",
       "    <tr>\n",
       "      <th>6</th>\n",
       "      <td>7</td>\n",
       "      <td>60-69</td>\n",
       "      <td>89</td>\n",
       "      <td>12.86%</td>\n",
       "    </tr>\n",
       "    <tr>\n",
       "      <th>7</th>\n",
       "      <td>8</td>\n",
       "      <td>70-79</td>\n",
       "      <td>28</td>\n",
       "      <td>4.05%</td>\n",
       "    </tr>\n",
       "    <tr>\n",
       "      <th>8</th>\n",
       "      <td>9</td>\n",
       "      <td>&gt;=80</td>\n",
       "      <td>10</td>\n",
       "      <td>1.45%</td>\n",
       "    </tr>\n",
       "    <tr>\n",
       "      <th>9</th>\n",
       "      <td>10</td>\n",
       "      <td>Missing</td>\n",
       "      <td>9</td>\n",
       "      <td>1.30%</td>\n",
       "    </tr>\n",
       "  </tbody>\n",
       "</table>\n",
       "</div>"
      ],
      "text/plain": [
       "   Sno AgeGroup  TotalCases Percentage\n",
       "0    1      0-9          22      3.18%\n",
       "1    2    10-19          27      3.90%\n",
       "2    3    20-29         172     24.86%\n",
       "3    4    30-39         146     21.10%\n",
       "4    5    40-49         112     16.18%\n",
       "5    6    50-59          77     11.13%\n",
       "6    7    60-69          89     12.86%\n",
       "7    8    70-79          28      4.05%\n",
       "8    9     >=80          10      1.45%\n",
       "9   10  Missing           9      1.30%"
      ]
     },
     "execution_count": 19,
     "metadata": {},
     "output_type": "execute_result"
    }
   ],
   "source": [
    "agd = pd.read_csv('AgeGroupDetails.csv')\n",
    "agd"
   ]
  },
  {
   "cell_type": "code",
   "execution_count": 11,
   "id": "060f0a1a-f7e1-442c-9b4e-aa0b65f1833e",
   "metadata": {},
   "outputs": [
    {
     "data": {
      "text/plain": [
       "(10, 4)"
      ]
     },
     "execution_count": 11,
     "metadata": {},
     "output_type": "execute_result"
    }
   ],
   "source": [
    "agd.shape"
   ]
  },
  {
   "cell_type": "code",
   "execution_count": 17,
   "id": "bbfdc61f-138b-4cc9-a024-bb2a6a10c332",
   "metadata": {},
   "outputs": [
    {
     "name": "stdout",
     "output_type": "stream",
     "text": [
      "<class 'pandas.core.frame.DataFrame'>\n",
      "RangeIndex: 10 entries, 0 to 9\n",
      "Data columns (total 4 columns):\n",
      " #   Column      Non-Null Count  Dtype \n",
      "---  ------      --------------  ----- \n",
      " 0   Sno         10 non-null     int64 \n",
      " 1   AgeGroup    10 non-null     object\n",
      " 2   TotalCases  10 non-null     int64 \n",
      " 3   Percentage  10 non-null     object\n",
      "dtypes: int64(2), object(2)\n",
      "memory usage: 452.0+ bytes\n"
     ]
    }
   ],
   "source": [
    "agd.info()"
   ]
  },
  {
   "cell_type": "code",
   "execution_count": 27,
   "id": "9605b2ee-9cef-4889-921d-cddb2c0dbbd4",
   "metadata": {},
   "outputs": [
    {
     "data": {
      "text/plain": [
       "'temp-plot.html'"
      ]
     },
     "execution_count": 27,
     "metadata": {},
     "output_type": "execute_result"
    }
   ],
   "source": [
    "\n",
    "trace = go.Bar(x = agd['AgeGroup'], y = agd['TotalCases'])\n",
    "data = [trace]\n",
    "layout = go.Layout(title=\"AgeGroup v/s Case\", xaxis_title='Age Group', yaxis_title='Total Cases')\n",
    "fig = go.Figure(data = data, layout=layout)\n",
    "pyo.plot(fig)"
   ]
  },
  {
   "cell_type": "code",
   "execution_count": 29,
   "id": "ee3de276-8e0d-4eff-b2d0-71b81269ccb7",
   "metadata": {},
   "outputs": [],
   "source": [
    "icmr = pd.read_csv('ICMRTestingDetails.csv')"
   ]
  },
  {
   "cell_type": "code",
   "execution_count": 31,
   "id": "cdf5a151-820a-43d4-aced-2320fef13be1",
   "metadata": {},
   "outputs": [
    {
     "data": {
      "text/html": [
       "<div>\n",
       "<style scoped>\n",
       "    .dataframe tbody tr th:only-of-type {\n",
       "        vertical-align: middle;\n",
       "    }\n",
       "\n",
       "    .dataframe tbody tr th {\n",
       "        vertical-align: top;\n",
       "    }\n",
       "\n",
       "    .dataframe thead th {\n",
       "        text-align: right;\n",
       "    }\n",
       "</style>\n",
       "<table border=\"1\" class=\"dataframe\">\n",
       "  <thead>\n",
       "    <tr style=\"text-align: right;\">\n",
       "      <th></th>\n",
       "      <th>SNo</th>\n",
       "      <th>DateTime</th>\n",
       "      <th>TotalSamplesTested</th>\n",
       "      <th>TotalIndividualsTested</th>\n",
       "      <th>TotalPositiveCases</th>\n",
       "      <th>Source</th>\n",
       "    </tr>\n",
       "  </thead>\n",
       "  <tbody>\n",
       "    <tr>\n",
       "      <th>0</th>\n",
       "      <td>1</td>\n",
       "      <td>13/03/20 18:00</td>\n",
       "      <td>6500.0</td>\n",
       "      <td>5900.0</td>\n",
       "      <td>78.0</td>\n",
       "      <td>Press_Release_ICMR_13March2020.pdf</td>\n",
       "    </tr>\n",
       "    <tr>\n",
       "      <th>1</th>\n",
       "      <td>2</td>\n",
       "      <td>18/03/20 18:00</td>\n",
       "      <td>13125.0</td>\n",
       "      <td>12235.0</td>\n",
       "      <td>150.0</td>\n",
       "      <td>ICMR_website_update_18March_6PM_IST.pdf</td>\n",
       "    </tr>\n",
       "    <tr>\n",
       "      <th>2</th>\n",
       "      <td>3</td>\n",
       "      <td>19/03/20 18:00</td>\n",
       "      <td>14175.0</td>\n",
       "      <td>13285.0</td>\n",
       "      <td>182.0</td>\n",
       "      <td>ICMR_website_update_19March_6PM_IST.pdf</td>\n",
       "    </tr>\n",
       "    <tr>\n",
       "      <th>3</th>\n",
       "      <td>4</td>\n",
       "      <td>20/03/20 18:00</td>\n",
       "      <td>15404.0</td>\n",
       "      <td>14514.0</td>\n",
       "      <td>236.0</td>\n",
       "      <td>ICMR_website_update_20March_6PM_IST.pdf</td>\n",
       "    </tr>\n",
       "    <tr>\n",
       "      <th>4</th>\n",
       "      <td>5</td>\n",
       "      <td>21/03/20 18:00</td>\n",
       "      <td>16911.0</td>\n",
       "      <td>16021.0</td>\n",
       "      <td>315.0</td>\n",
       "      <td>ICMR_website_update_21March_6PM_IST.pdf</td>\n",
       "    </tr>\n",
       "  </tbody>\n",
       "</table>\n",
       "</div>"
      ],
      "text/plain": [
       "   SNo        DateTime  TotalSamplesTested  TotalIndividualsTested  \\\n",
       "0    1  13/03/20 18:00              6500.0                  5900.0   \n",
       "1    2  18/03/20 18:00             13125.0                 12235.0   \n",
       "2    3  19/03/20 18:00             14175.0                 13285.0   \n",
       "3    4  20/03/20 18:00             15404.0                 14514.0   \n",
       "4    5  21/03/20 18:00             16911.0                 16021.0   \n",
       "\n",
       "   TotalPositiveCases                                   Source  \n",
       "0                78.0       Press_Release_ICMR_13March2020.pdf  \n",
       "1               150.0  ICMR_website_update_18March_6PM_IST.pdf  \n",
       "2               182.0  ICMR_website_update_19March_6PM_IST.pdf  \n",
       "3               236.0  ICMR_website_update_20March_6PM_IST.pdf  \n",
       "4               315.0  ICMR_website_update_21March_6PM_IST.pdf  "
      ]
     },
     "execution_count": 31,
     "metadata": {},
     "output_type": "execute_result"
    }
   ],
   "source": [
    "icmr.head()"
   ]
  },
  {
   "cell_type": "code",
   "execution_count": 49,
   "id": "bbe9a776-71b1-43d2-b544-efec3f999321",
   "metadata": {},
   "outputs": [
    {
     "data": {
      "text/html": [
       "<div>\n",
       "<style scoped>\n",
       "    .dataframe tbody tr th:only-of-type {\n",
       "        vertical-align: middle;\n",
       "    }\n",
       "\n",
       "    .dataframe tbody tr th {\n",
       "        vertical-align: top;\n",
       "    }\n",
       "\n",
       "    .dataframe thead th {\n",
       "        text-align: right;\n",
       "    }\n",
       "</style>\n",
       "<table border=\"1\" class=\"dataframe\">\n",
       "  <thead>\n",
       "    <tr style=\"text-align: right;\">\n",
       "      <th></th>\n",
       "      <th>Sno</th>\n",
       "      <th>Date</th>\n",
       "      <th>Time</th>\n",
       "      <th>State/UnionTerritory</th>\n",
       "      <th>ConfirmedIndianNational</th>\n",
       "      <th>ConfirmedForeignNational</th>\n",
       "      <th>Cured</th>\n",
       "      <th>Deaths</th>\n",
       "      <th>Confirmed</th>\n",
       "    </tr>\n",
       "  </thead>\n",
       "  <tbody>\n",
       "    <tr>\n",
       "      <th>0</th>\n",
       "      <td>1.0</td>\n",
       "      <td>30/01/20</td>\n",
       "      <td>6:00 PM</td>\n",
       "      <td>Kerala</td>\n",
       "      <td>1</td>\n",
       "      <td>0</td>\n",
       "      <td>0.0</td>\n",
       "      <td>0.0</td>\n",
       "      <td>1.0</td>\n",
       "    </tr>\n",
       "    <tr>\n",
       "      <th>1</th>\n",
       "      <td>2.0</td>\n",
       "      <td>31/01/20</td>\n",
       "      <td>6:00 PM</td>\n",
       "      <td>Kerala</td>\n",
       "      <td>1</td>\n",
       "      <td>0</td>\n",
       "      <td>0.0</td>\n",
       "      <td>0.0</td>\n",
       "      <td>1.0</td>\n",
       "    </tr>\n",
       "    <tr>\n",
       "      <th>2</th>\n",
       "      <td>3.0</td>\n",
       "      <td>01/02/20</td>\n",
       "      <td>6:00 PM</td>\n",
       "      <td>Kerala</td>\n",
       "      <td>2</td>\n",
       "      <td>0</td>\n",
       "      <td>0.0</td>\n",
       "      <td>0.0</td>\n",
       "      <td>2.0</td>\n",
       "    </tr>\n",
       "    <tr>\n",
       "      <th>3</th>\n",
       "      <td>4.0</td>\n",
       "      <td>02/02/20</td>\n",
       "      <td>6:00 PM</td>\n",
       "      <td>Kerala</td>\n",
       "      <td>3</td>\n",
       "      <td>0</td>\n",
       "      <td>0.0</td>\n",
       "      <td>0.0</td>\n",
       "      <td>3.0</td>\n",
       "    </tr>\n",
       "    <tr>\n",
       "      <th>4</th>\n",
       "      <td>5.0</td>\n",
       "      <td>03/02/20</td>\n",
       "      <td>6:00 PM</td>\n",
       "      <td>Kerala</td>\n",
       "      <td>3</td>\n",
       "      <td>0</td>\n",
       "      <td>0.0</td>\n",
       "      <td>0.0</td>\n",
       "      <td>3.0</td>\n",
       "    </tr>\n",
       "  </tbody>\n",
       "</table>\n",
       "</div>"
      ],
      "text/plain": [
       "   Sno      Date     Time State/UnionTerritory ConfirmedIndianNational  \\\n",
       "0  1.0  30/01/20  6:00 PM               Kerala                       1   \n",
       "1  2.0  31/01/20  6:00 PM               Kerala                       1   \n",
       "2  3.0  01/02/20  6:00 PM               Kerala                       2   \n",
       "3  4.0  02/02/20  6:00 PM               Kerala                       3   \n",
       "4  5.0  03/02/20  6:00 PM               Kerala                       3   \n",
       "\n",
       "  ConfirmedForeignNational  Cured  Deaths  Confirmed  \n",
       "0                        0    0.0     0.0        1.0  \n",
       "1                        0    0.0     0.0        1.0  \n",
       "2                        0    0.0     0.0        2.0  \n",
       "3                        0    0.0     0.0        3.0  \n",
       "4                        0    0.0     0.0        3.0  "
      ]
     },
     "execution_count": 49,
     "metadata": {},
     "output_type": "execute_result"
    }
   ],
   "source": [
    "covid_df = pd.read_csv('covid_19_india.csv')\n",
    "covid_df.head()"
   ]
  },
  {
   "cell_type": "code",
   "execution_count": 51,
   "id": "cf1294b5-f1d6-4b71-9ff4-37dbf8cdd832",
   "metadata": {},
   "outputs": [],
   "source": [
    "covid_df = covid_df.dropna()"
   ]
  },
  {
   "cell_type": "code",
   "execution_count": 53,
   "id": "ac76d566-6078-4bdd-a10c-c0c2d4752568",
   "metadata": {},
   "outputs": [
    {
     "name": "stdout",
     "output_type": "stream",
     "text": [
      "<class 'pandas.core.frame.DataFrame'>\n",
      "Index: 801 entries, 0 to 800\n",
      "Data columns (total 9 columns):\n",
      " #   Column                    Non-Null Count  Dtype  \n",
      "---  ------                    --------------  -----  \n",
      " 0   Sno                       801 non-null    float64\n",
      " 1   Date                      801 non-null    object \n",
      " 2   Time                      801 non-null    object \n",
      " 3   State/UnionTerritory      801 non-null    object \n",
      " 4   ConfirmedIndianNational   801 non-null    object \n",
      " 5   ConfirmedForeignNational  801 non-null    object \n",
      " 6   Cured                     801 non-null    float64\n",
      " 7   Deaths                    801 non-null    float64\n",
      " 8   Confirmed                 801 non-null    float64\n",
      "dtypes: float64(4), object(5)\n",
      "memory usage: 62.6+ KB\n"
     ]
    }
   ],
   "source": [
    "covid_df.info()"
   ]
  },
  {
   "cell_type": "code",
   "execution_count": 55,
   "id": "142331f8-9469-4cc9-83d3-23e40778b861",
   "metadata": {},
   "outputs": [
    {
     "data": {
      "text/plain": [
       "Sno                         0\n",
       "Date                        0\n",
       "Time                        0\n",
       "State/UnionTerritory        0\n",
       "ConfirmedIndianNational     0\n",
       "ConfirmedForeignNational    0\n",
       "Cured                       0\n",
       "Deaths                      0\n",
       "Confirmed                   0\n",
       "dtype: int64"
      ]
     },
     "execution_count": 55,
     "metadata": {},
     "output_type": "execute_result"
    }
   ],
   "source": [
    "covid_df.isnull().sum()"
   ]
  },
  {
   "cell_type": "code",
   "execution_count": 57,
   "id": "02d81582-e6a4-4191-85d6-d06c14f2a6a0",
   "metadata": {},
   "outputs": [
    {
     "name": "stderr",
     "output_type": "stream",
     "text": [
      "C:\\Users\\samar\\AppData\\Local\\Temp\\ipykernel_2776\\4068600880.py:1: UserWarning:\n",
      "\n",
      "Could not infer format, so each element will be parsed individually, falling back to `dateutil`. To ensure parsing is consistent and as-expected, please specify a format.\n",
      "\n"
     ]
    }
   ],
   "source": [
    "covid_df['Dates'] = pd.to_datetime(covid_df['Date'])"
   ]
  },
  {
   "cell_type": "code",
   "execution_count": 79,
   "id": "ed16d931-afaf-4ec8-8338-529bbf4bfdfa",
   "metadata": {},
   "outputs": [],
   "source": [
    "import datetime as dt\n",
    "covid_df['day'] = covid_df['Dates'].dt.weekday\n",
    "\n"
   ]
  },
  {
   "cell_type": "code",
   "execution_count": 89,
   "id": "3a79da33-67ab-492d-9551-ef504dbc66f5",
   "metadata": {},
   "outputs": [
    {
     "data": {
      "text/plain": [
       "day\n",
       "0     5431.0\n",
       "1     9471.0\n",
       "2     3347.0\n",
       "3     5286.0\n",
       "4     6971.0\n",
       "5    11041.0\n",
       "6     1536.0\n",
       "Name: Confirmed, dtype: float64"
      ]
     },
     "execution_count": 89,
     "metadata": {},
     "output_type": "execute_result"
    }
   ],
   "source": [
    "covid_df.groupby('day')['Confirmed'].sum()"
   ]
  },
  {
   "cell_type": "code",
   "execution_count": 127,
   "id": "d740b5d1-f6e3-4e8c-8f15-ffb08b6b1110",
   "metadata": {},
   "outputs": [],
   "source": [
    "# Group by 'Dates' and sum the 'Confirmed' cases\n",
    "covid_df['Dates'] = pd.to_datetime(covid_df['Date'])\n",
    "covid = covid_df.groupby('Dates')['Confirmed'].sum().reset_index()\n",
    "\n",
    "# Sort the DataFrame by 'Dates'\n",
    "covid = covid.sort_values(by='Dates')\n",
    "\n",
    "# Create a trace for the line plot\n",
    "trace = go.Scatter(x=covid['Dates'], y=covid['Confirmed'], mode='lines')  # Use 'lines' for a line graph\n",
    "\n",
    "# Define the data and layout for the plot\n",
    "data = [trace]\n",
    "layout = go.Layout(title=\"Day by Day Cases\", xaxis_title='Date', yaxis_title='Total Cases')\n",
    "\n",
    "# Create the figure with data and layout\n",
    "fig = go.Figure(data=data, layout=layout)\n",
    "\n",
    "# Plot the figure\n",
    "pyo.plot(fig)"
   ]
  },
  {
   "cell_type": "code",
   "execution_count": 131,
   "id": "86455fa4-4d0b-41be-b9dc-52faf6282157",
   "metadata": {},
   "outputs": [
    {
     "data": {
      "text/plain": [
       "'temp-plot.html'"
      ]
     },
     "execution_count": 131,
     "metadata": {},
     "output_type": "execute_result"
    }
   ],
   "source": [
    "# Create a trace for the line plot\n",
    "trace = go.Scatter(x=covid['Dates'], y=covid['Confirmed'], mode='lines')  # Use 'lines' for a line graph\n",
    "\n",
    "# Define the data and layout for the plot\n",
    "data = [trace]\n",
    "layout = go.Layout(title=\"Day by Day Cases\", xaxis_title='Date', yaxis_title='Total Cases')\n",
    "\n",
    "# Create the figure with data and layout\n",
    "fig = go.Figure(data=data, layout=layout)\n",
    "\n",
    "# Plot the figure\n",
    "pyo.plot(fig)"
   ]
  },
  {
   "cell_type": "code",
   "execution_count": 83,
   "id": "87807fa1-4481-4b40-8bce-c6638c7a78cc",
   "metadata": {},
   "outputs": [],
   "source": [
    "# covid_df['Dates'].dt.weekday\n",
    "# "
   ]
  },
  {
   "cell_type": "code",
   "execution_count": 85,
   "id": "57adf296-51e8-46d7-bf64-9ff42da1a0ee",
   "metadata": {},
   "outputs": [],
   "source": [
    "# covid_df['Dates'].dt.day_name()"
   ]
  },
  {
   "cell_type": "code",
   "execution_count": 101,
   "id": "dab2399b-6d63-4074-ba80-5fdb7410a445",
   "metadata": {},
   "outputs": [
    {
     "data": {
      "text/plain": [
       "'temp-plot.html'"
      ]
     },
     "execution_count": 101,
     "metadata": {},
     "output_type": "execute_result"
    }
   ],
   "source": []
  },
  {
   "cell_type": "code",
   "execution_count": 133,
   "id": "5c50a3ba-daf7-432d-829d-103d01b927a6",
   "metadata": {},
   "outputs": [
    {
     "data": {
      "text/plain": [
       "'temp-plot.html'"
      ]
     },
     "execution_count": 133,
     "metadata": {},
     "output_type": "execute_result"
    }
   ],
   "source": [
    "# Group by 'Dates' and sum the 'Confirmed' cases\n",
    "covid = covid_df.groupby('Dates')['Confirmed'].sum().reset_index()\n",
    "\n",
    "# Sort the DataFrame by 'Dates'\n",
    "covid = covid.sort_values(by='Dates')\n",
    "\n",
    "# Now you can use this DataFrame for plotting\n",
    "trace = go.Scatter(\n",
    "    x=covid['Dates'], \n",
    "    y=covid['Confirmed'], \n",
    "    mode='lines',  # Keep the line mode\n",
    "    line=dict(width=2, color='blue')  # Adjust line thickness and color\n",
    ")\n",
    "\n",
    "# Define the layout\n",
    "layout = go.Layout(\n",
    "    title=\"Day by Day Analysis\",  # Title of the graph\n",
    "    xaxis=dict(\n",
    "        title='Date',  # X-axis label\n",
    "        tickangle=-45,  # Rotate x-axis labels\n",
    "        tickformat='%d/%m/%y',  # Date format for x-axis\n",
    "    ),\n",
    "    yaxis=dict(\n",
    "        title='Number of Cases',  # Y-axis label\n",
    "    ),\n",
    "    template='plotly_white',  # Clean background\n",
    "    hovermode=\"x unified\"  # Unified hover mode\n",
    ")\n",
    "\n",
    "# Create the figure\n",
    "fig = go.Figure(data=[trace], layout=layout)\n",
    "\n",
    "# Plot the figure\n",
    "pyo.plot(fig)\n"
   ]
  },
  {
   "cell_type": "code",
   "execution_count": null,
   "id": "64c7cd49-6a16-4a0e-a5ea-6158c70ec3d9",
   "metadata": {},
   "outputs": [],
   "source": []
  }
 ],
 "metadata": {
  "kernelspec": {
   "display_name": "Python 3 (ipykernel)",
   "language": "python",
   "name": "python3"
  },
  "language_info": {
   "codemirror_mode": {
    "name": "ipython",
    "version": 3
   },
   "file_extension": ".py",
   "mimetype": "text/x-python",
   "name": "python",
   "nbconvert_exporter": "python",
   "pygments_lexer": "ipython3",
   "version": "3.12.4"
  }
 },
 "nbformat": 4,
 "nbformat_minor": 5
}
